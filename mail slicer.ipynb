{
 "cells": [
  {
   "cell_type": "code",
   "execution_count": 1,
   "id": "290a4b16",
   "metadata": {},
   "outputs": [
    {
     "name": "stdout",
     "output_type": "stream",
     "text": [
      "Enter your email address: mail@gmail.com\n",
      "Username: mail\n",
      "Domain: gmail.com\n"
     ]
    }
   ],
   "source": [
    "# Input: Enter your email address\n",
    "email = input(\"Enter your email address: \")\n",
    "\n",
    "# Find the position of the \"@\" symbol\n",
    "at_symbol_index = email.find(\"@\")\n",
    "\n",
    "# Extract the username and domain\n",
    "if at_symbol_index != -1:\n",
    "    username = email[:at_symbol_index]\n",
    "    domain = email[at_symbol_index + 1:]\n",
    "    print(f\"Username: {username}\\nDomain: {domain}\")\n",
    "else:\n",
    "    print(\"Invalid email address.\")"
   ]
  },
  {
   "cell_type": "code",
   "execution_count": null,
   "id": "9b09b73c",
   "metadata": {},
   "outputs": [],
   "source": []
  }
 ],
 "metadata": {
  "kernelspec": {
   "display_name": "Python 3 (ipykernel)",
   "language": "python",
   "name": "python3"
  },
  "language_info": {
   "codemirror_mode": {
    "name": "ipython",
    "version": 3
   },
   "file_extension": ".py",
   "mimetype": "text/x-python",
   "name": "python",
   "nbconvert_exporter": "python",
   "pygments_lexer": "ipython3",
   "version": "3.11.4"
  }
 },
 "nbformat": 4,
 "nbformat_minor": 5
}
